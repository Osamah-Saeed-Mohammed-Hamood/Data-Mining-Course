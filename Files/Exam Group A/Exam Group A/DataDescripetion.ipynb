{
 "cells": [
  {
   "cell_type": "markdown",
   "id": "d8ae6ee8-ef94-44fc-b938-5b0e0476d6de",
   "metadata": {},
   "source": [
    "| English Column Name             | Arabic Name                     | Valid Values / Description                          |\n",
    "|----------------------------------|----------------------------------|-----------------------------------------------------|\n",
    "| PatientID                        | معرف المريض                     | عدد صحيح (فريد لكل مريض ID)                        |\n",
    "| Age                              | العمر                            | عدد صحيح (بالسنوات)                                |\n",
    "| Gender                           | الجنس                            | \"Male\" أو \"Female\"                                  |\n",
    "| Ethnicity                        | العرق                            | 0 أو 1 أو 2 أو 3 (أرقام تمثل الأعراق المختلفة)     |\n",
    "| EducationLevel                   | المستوى التعليمي                 | \"Level one\" أو \"Level two\" أو \"Level three\"          |\n",
    "| BMI                              | مؤشر كتلة الجسم                  | عدد عشري (بين 10 و 50 تقريباً)                     |\n",
    "| Smoking                          | التدخين                          | 0 (لا) أو 1 (نعم)                                   |\n",
    "| AlcoholConsumption               | استهلاك الكحول                   | عدد عشري (كمية الشرب)                               |\n",
    "| PhysicalActivity                 | النشاط البدني                    | عدد عشري (مستوى النشاط)                             |\n",
    "| DietQuality                      | جودة النظام الغذائي              | عدد عشري                                            |\n",
    "| SleepQuality                     | جودة النوم                       | عدد عشري                                            |\n",
    "| FamilyHistoryAlzheimers          | تاريخ عائلي للزهايمر             | 0 (لا) أو 1 (نعم)                                   |\n",
    "| CardiovascularDisease            | أمراض القلب                      | 0 (لا) أو 1 (نعم)                                   |\n",
    "| Diabetes                         | السكري                           | 0 (لا) أو 1 (نعم)                                   |\n",
    "| Depression                       | الاكتئاب                         | 0 (لا) أو 1 (نعم)                                   |\n",
    "| HeadInjury                       | إصابة بالرأس                     | 0 (لا) أو 1 (نعم)                                   |\n",
    "| Hypertension                     | ارتفاع ضغط الدم                  | 0 (لا) أو 1 (نعم)                                   |\n",
    "| SystolicBP                       | ضغط الدم الانقباضي               | عدد صحيح (عادة بين 90-180)                         |\n",
    "| DiastolicBP                      | ضغط الدم الانبساطي               | عدد صحيح (عادة بين 60-120)                         |\n",
    "| CholesterolTotal                 | الكوليسترول الكلي                | عدد عشري                                            |\n",
    "| CholesterolLDL                   | كوليسترول LDL                    | عدد عشري                                            |\n",
    "| CholesterolHDL                   | كوليسترول HDL                    | عدد عشري                                            |\n",
    "| CholesterolTriglycerides         | الدهون الثلاثية                  | عدد عشري                                            |\n",
    "| MMSE                              | اختبار الحالة الذهنية (MMSE)     | عدد (درجة بين 0 و30 عادة)                          |\n",
    "| FunctionalAssessment             | التقييم الوظيفي                   | عدد عشري                                            |\n",
    "| MemoryComplaints                 | شكاوى الذاكرة                    | \"Yes\" أو \"No\"                                       |\n",
    "| BehavioralProblems               | مشاكل سلوكية                     | \"Yes\" أو \"No\"                                       |\n",
    "| ADL                               | أنشطة الحياة اليومية (ADL)       | عدد عشري                                            |\n",
    "| Confusion                         | الارتباك                         | 0 (لا) أو 1 (نعم)                                   |\n",
    "| Disorientation                    | فقدان الاتجاه                    | 0 (لا) أو 1 (نعم)                                   |\n",
    "| PersonalityChanges                | تغيرات في الشخصية                | 0 (لا) أو 1 (نعم)                                   |\n",
    "| DifficultyCompletingTasks         | صعوبة في إكمال المهام             | 0 (لا) أو 1 (نعم)                                   |\n",
    "| Forgetfulness                     | النسيان                          | 0 (لا) أو 1 (نعم)                                   |\n",
    "| Diagnosis                         | التشخيص                          | 0 (سليم) أو 1 (مصاب بالزهايمر)                      |\n",
    "| DoctorInCharge                    | الطبيب المسؤول                   | نص (اسم الطبيب المسؤول)                            |\n"
   ]
  }
 ],
 "metadata": {
  "kernelspec": {
   "display_name": "Python 3 (ipykernel)",
   "language": "python",
   "name": "python3"
  },
  "language_info": {
   "codemirror_mode": {
    "name": "ipython",
    "version": 3
   },
   "file_extension": ".py",
   "mimetype": "text/x-python",
   "name": "python",
   "nbconvert_exporter": "python",
   "pygments_lexer": "ipython3",
   "version": "3.12.4"
  }
 },
 "nbformat": 4,
 "nbformat_minor": 5
}
